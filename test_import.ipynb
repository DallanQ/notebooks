{
  "nbformat": 4,
  "nbformat_minor": 0,
  "metadata": {
    "colab": {
      "provenance": [],
      "authorship_tag": "ABX9TyM743zF52tDXN58e5v8F/NU",
      "include_colab_link": true
    },
    "kernelspec": {
      "name": "python3",
      "display_name": "Python 3"
    },
    "language_info": {
      "name": "python"
    }
  },
  "cells": [
    {
      "cell_type": "markdown",
      "metadata": {
        "id": "view-in-github",
        "colab_type": "text"
      },
      "source": [
        "<a href=\"https://colab.research.google.com/github/DallanQ/notebooks/blob/main/test_import.ipynb\" target=\"_parent\"><img src=\"https://colab.research.google.com/assets/colab-badge.svg\" alt=\"Open In Colab\"/></a>"
      ]
    },
    {
      "cell_type": "code",
      "execution_count": 1,
      "metadata": {
        "colab": {
          "base_uri": "https://localhost:8080/"
        },
        "id": "f8zHjfIYDY73",
        "outputId": "4262a6ef-5ccc-46ad-ec9d-bd7a461402a3"
      },
      "outputs": [
        {
          "output_type": "stream",
          "name": "stdout",
          "text": [
            "Cloning into 'notebooks'...\n",
            "remote: Enumerating objects: 10, done.\u001b[K\n",
            "remote: Counting objects: 100% (10/10), done.\u001b[K\n",
            "remote: Compressing objects: 100% (8/8), done.\u001b[K\n",
            "remote: Total 10 (delta 2), reused 0 (delta 0), pack-reused 0 (from 0)\u001b[K\n",
            "Receiving objects: 100% (10/10), 25.37 KiB | 3.62 MiB/s, done.\n",
            "Resolving deltas: 100% (2/2), done.\n",
            "/content/notebooks\n",
            "README.md  Titanic.ipynb  utils.py\n"
          ]
        }
      ],
      "source": [
        "!git clone https://github.com/DallanQ/notebooks.git\n",
        "%cd notebooks\n",
        "%ls"
      ]
    },
    {
      "cell_type": "code",
      "source": [
        "from utils import hello\n",
        "\n",
        "hello(\"Dallan\")"
      ],
      "metadata": {
        "colab": {
          "base_uri": "https://localhost:8080/"
        },
        "id": "J0OdspYGDnYS",
        "outputId": "e2f34189-e109-430b-cab0-d7c94761a1c0"
      },
      "execution_count": 2,
      "outputs": [
        {
          "output_type": "stream",
          "name": "stdout",
          "text": [
            "hello Dallan\n"
          ]
        }
      ]
    },
    {
      "cell_type": "code",
      "source": [],
      "metadata": {
        "id": "0y-s7IaCDt9L"
      },
      "execution_count": null,
      "outputs": []
    }
  ]
}